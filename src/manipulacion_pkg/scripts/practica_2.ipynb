{
 "cells": [
  {
   "attachments": {},
   "cell_type": "markdown",
   "metadata": {
    "editable": false,
    "rendered": true,
    "run_control": {
     "frozen": true
    },
    "slideshow": {
     "slide_type": "slide"
    },
    "tags": []
   },
   "source": [
    "# PRACTICA 2 MANIPULACIÓN\n"
   ]
  },
  {
   "cell_type": "markdown",
   "metadata": {},
   "source": [
    "En esta práctica se pretende coger un determinado objeto con un gripper concreto, pasarlo por encima de un obstáculo y posicionarlo en el suelo. Esto se hace con un grazo robótico UR10 y en el trayecto no debe haber colisión con los obstáculos ni con el propio brazo. \n",
    "\n",
    "Para conseguir esto se identifican los obstáculos, se define el punto inicial de agarre del gripper y el punto final, y el `algoritmo RRT hace la planificación de una trayectoria libre de obstáculos` que vaya de un punto a otro. No siempre es la misma porque existen varias posibilidades. Es decir, `el planificador hace el trabajo por nosotros` y por lo tanto `no es necesario definir posiciones intermedias de paso.`\n",
    "\n",
    "Sin embargo, `para que el video se vea fluido`, se han puesto posiciones intermedias a las que debe ir llegando el brazo para realizar el path completo, sin hacer movimientos extraños con el brazo.\n",
    "A continuación se muestran los pasos que se han seguido"
   ]
  },
  {
   "attachments": {},
   "cell_type": "markdown",
   "metadata": {
    "slideshow": {
     "slide_type": "slide"
    },
    "tags": []
   },
   "source": [
    "## Iniciando la simulacion de Gazebo\n",
    "\n",
    "Para simular brazo robótico UR10 junto con el gripper en Gazebo, debes seguir estos pasos:\n",
    "\n",
    "1. Abre una Nueva Terminal: Primero, necesitas abrir una nueva ventana de terminal en tu sistema (Ctrl + Alt + T).\n",
    "\n",
    "2. Ejecuta el Comando de Lanzamiento: En la terminal recién abierta, ejecuta el siguiente comando:\n"
   ]
  },
  {
   "attachments": {},
   "cell_type": "markdown",
   "metadata": {
    "slideshow": {
     "slide_type": ""
    },
    "tags": []
   },
   "source": [
    "``` shellscript\n",
    "user@pc:~$ roslaunch manipulacion_pkg  robot_gazebo.launch tipo_gripper:=jaco \\\n",
    "            objeto:=mustard_bottle\n",
    "\n",
    "```"
   ]
  },
  {
   "attachments": {},
   "cell_type": "markdown",
   "metadata": {},
   "source": [
    "## Posición inicial en Gazebo\n",
    "\n",
    "1. **Inicializar el Nodo ROS**: Primero, inicializamos un nodo ROS. Este nodo nos facilitará la comunicación con el sistema ROS y permitirá el control del brazo robótico en la simulación de Gazebo.\n",
    "\n",
    "2. **Creación de una Instancia de GazeboRobot**: Se crea una instancia de `GazeboRobot`, especificando los nombres de las articulaciones del brazo robótico que queremos controlar. Esto nos permite interactuar específicamente con nuestro brazo robótico en Gazebo.\n",
    "\n",
    "3. **Lectura de Posiciones Actuales de las Articulaciones**: Utilizamos el método `obtener_posiciones_articulaciones` para leer las posiciones actuales de las articulaciones del brazo robótico. \n",
    "\n",
    "Como la posición de como se debe coger el objeto viene determinada por las condiciones que se explicaron en la `Práctica 1` y que se encuentran en el archivo .YALM, y siguiendo el consejo de la profesora de prácticas, la pose inicial desde donde se debe empezar el proceso de agarre es diferente a la impuesta por el posición inicial de Gazebo. Esta posición se ha escogido de forma que sea más facil para el brazo llegar hasta la posición de agarre, por eso `NO es necesaria una posición de preagarre`.\n",
    "Este punto de inicio es el siguiente :[1.2566831278301214, -0.8740287446197677, 0.7563676502460766, -1.1837925124354811, 3.75749471561243, 1.064756533529244]"
   ]
  },
  {
   "cell_type": "code",
   "execution_count": null,
   "metadata": {},
   "outputs": [],
   "source": [
    "import rospy\n",
    "import manipulacion_lib # Importa la biblioteca para manipulación de objetos y grippers en simulación\n",
    "import rospy # Importa rospy, necesario para la comunicación con el sistema ROS\n",
    "import PyKDL # Importa PyKDL para las transformaciones entre sistemas  de referencia\n",
    "import numpy as np #se importa para realizar las interpolaciones de las posiciones\n",
    "from sensor_msgs.msg import JointState\n",
    "from geometry_msgs.msg import Pose\n",
    "from visualization_msgs.msg import MarkerArray\n",
    "import numpy as np\n",
    "from manipulacion_lib import Obstaculo, DetectorColisionesGripperFlotante\n",
    "\n",
    "# Inicializar el Nodo ROS\n",
    "if not rospy.get_node_uri():\n",
    "    rospy.init_node('robot_arm_controller', anonymous=True)\n",
    "\n",
    "# Creación de una Instancia de `GazeboRobot`\n",
    "gazebo_robot = manipulacion_lib.GazeboRobot(nombres_articulaciones=[\n",
    "    'shoulder_pan_joint',\n",
    "    'shoulder_lift_joint',\n",
    "    'elbow_joint',\n",
    "    'wrist_1_joint',\n",
    "    'wrist_2_joint',\n",
    "    'wrist_3_joint'\n",
    "])\n",
    "\n",
    "# Lectura de Posiciones Actuales de las Articulaciones\n",
    "posiciones_actuales = gazebo_robot.obtener_posiciones_articulaciones()\n",
    "print(\"Posiciones actuales de las articulaciones:\", posiciones_actuales)\n",
    "\n",
    "# Envío de Comando a una Posición Específica\n",
    "posicion_deseada = [1.2566831278301214, -0.8740287446197677, 0.7563676502460766, -1.1837925124354811, 3.75749471561243, 1.064756533529244]\n",
    "# Define la posición deseada para las articulaciones y el tiempo para alcanzarla\n",
    "gazebo_robot.command_posicion_articulaciones(posicion_deseada, time_from_start=2)\n",
    "rospy.sleep(2)"
   ]
  },
  {
   "cell_type": "markdown",
   "metadata": {},
   "source": [
    "## Sistemas de referencia\n",
    "\n",
    "En este momento se recuperan los datos de la `posición de agarre` que da el archivo .YALM y se `traducen` de modo que sea entendible para el sistema de referencia que maneje el brazo. En este caso se pasa de la posición de referencia del gripper respecto al objeto a una posicón respecto al mundo.\n",
    "Además, se crea una función para transformar los datos de frame a pose para que la información que manejen las siguientes instrucciones sean compatibles"
   ]
  },
  {
   "cell_type": "code",
   "execution_count": null,
   "metadata": {},
   "outputs": [],
   "source": [
    "# Definir el robot en Gazebo para simulaciones en Gazebo\n",
    "ur10 = manipulacion_lib.GazeboRobot()\n",
    "simulacion_gripper = manipulacion_lib.SimulacionGripper(nombre_gripper_gazebo=\"gripper\")\n",
    "# Configurar el gripper basado en el archivo YAML específico para su tipo.\n",
    "# Esto incluye cargar las configuraciones iniciales como nombres de articulaciones y posiciones predeterminadas.\n",
    "simulacion_gripper.configurar_gripper()\n",
    "\n",
    "# Fijamos una pose relativa del gripper con respecto al objeto. Pose del gripper con respecto al objeto con la pose optima obtenida pregiamente el GRASPIT!\n",
    "pose_gripper_objeto = PyKDL.Frame(PyKDL.Rotation.Quaternion(-0.4084609483059216, -0.5445844147386103, 0.44995840188535785, 0.5780353843023863), PyKDL.Vector(-0.0029576076089575204, 0.19114477251526724, 0.19604699051348687))\n",
    "\n",
    "print(\"Pose gripper con respecto a objeto\")\n",
    "print(pose_gripper_objeto)\n",
    "\n",
    "# Obtener la pose (posición y orientación) de un objeto específico en el Gazebo. Se obtiene la pose del objeto 'construction_cone' con respecto al sistema de referencia global (world)\n",
    "pose_objeto_world = simulacion_gripper.obtener_pose_objeto( nombre_objeto_gazebo='construction_cone')\n",
    "print(\"Pose objeto con respecto a world\")\n",
    "print(pose_objeto_world)\n",
    "\n",
    "# Calcular la pose del gripper en el sistema de referencia global a partir de su pose relativa al objeto. Se realiza una transformación de coordenadas para obtener la pose del gripper en el sistema global\n",
    "pose_gripper_world = pose_objeto_world * pose_gripper_objeto\n",
    "print(\"Pose gripper con respecto a world: \")\n",
    "print( pose_gripper_world)\n",
    "\n",
    "#Crear pose del efector final\n",
    "def frame_to_pose(frame):\n",
    "    rotation = frame.M\n",
    "    qx, qy, qz, qw = rotation.GetQuaternion()\n",
    "    pose = Pose()\n",
    "    pose.position.x = frame.p.x()\n",
    "    pose.position.y = frame.p.y()\n",
    "    pose.position.z = frame.p.z()\n",
    "    pose.orientation.x = qx\n",
    "    pose.orientation.y = qy\n",
    "    pose.orientation.z = qz\n",
    "    pose.orientation.w = qw\n",
    "    return pose\n",
    "\n",
    "tcp_pose = frame_to_pose(pose_gripper_world)\n",
    "print(\"Pose gripper_tcp con respecto a world: \")\n",
    "print( tcp_pose)\n",
    "print(pose_gripper_world)"
   ]
  },
  {
   "cell_type": "markdown",
   "metadata": {},
   "source": [
    "## Detección de obstáculos y colisiones\n",
    "En este punto se define la existencia de un obstáculo y  con la 'función de deteccion' de colisiones se podrá ver cuando una posición tiene o no colisiones.\n",
    "\n",
    "1. **Definición de Obstáculos**: A continuación, definimos los obstáculos presentes en el entorno que podrían interactuar con el brazo robótico. Cada obstáculo se define con un tipo (por ejemplo, 'cubo'), una pose inicial, dimensiones y un nombre único.\n",
    "\n",
    "2. **Creación de una Instancia del Detector de Colisiones**: Instanciamos el `DetectorColisiones`, especificando si se incluirá el brazo robótico y/o el gripper, junto con los obstáculos definidos. \n",
    "\n",
    "3. **Verificación de Auto-colisiones y Colisiones con Obstáculos**: Utilizamos el método `hay_colision` del detector de colisiones para determinar si, dada una configuración específica de las articulaciones del brazo, existe alguna colisión con los obstáculos definidos o auto-colisiones.\n"
   ]
  },
  {
   "cell_type": "code",
   "execution_count": null,
   "metadata": {},
   "outputs": [],
   "source": [
    "# Definición de Obstáculos. Crea una lista para almacenar los obstáculos definidos\n",
    "obstaculos = []\n",
    "\n",
    "# Crea y añade un obstáculo específico a la lista. Asume que manipulacion_lib.Obstaculo es una clase que permite definir obstáculos con tipo, pose, dimensiones y nombre\n",
    "obstaculo = manipulacion_lib.Obstaculo('cubo', [0.7, 0, 0, 1, 0, 0, 0], \n",
    "                                       [0.8, 0.3, 0.7], 'obstaculo')\n",
    "obstaculos.append(obstaculo)\n",
    "obstaculos = []\n",
    "\n",
    "# Creación de una Instancia del Detector de Colisiones. Inicializa el detector de colisiones con la configuración deseada, incluyendo el brazo robótico, el gripper y los obstáculos\n",
    "detectorColisiones = manipulacion_lib.DetectorColisiones(\n",
    "    usa_brazo_robotico=True,  # Indica si el brazo robótico se incluye en la \n",
    "                              # detección de colisiones\n",
    "    usa_gripper=True,  # Indica si el gripper se incluye \n",
    "                       # en la detección de colisiones\n",
    "    gripper_dimensions=[0.1, 0.1, 0.1],  # Especifica las dimensiones del \n",
    "                                        # gripper como un prisma rectangular\n",
    "    obstaculos=obstaculos  # Lista de obstáculos definidos previamente\n",
    ")\n",
    "\n",
    "#Obtener los Límites de las Articulaciones\n",
    "min_limits = ur10.get_limites_inferiores()\n",
    "max_limits = ur10.get_limites_superiores()\n",
    "joint_limits = []\n",
    "for i in range(len(min_limits)):\n",
    "    joint_limits.append((min_limits[i], max_limits[i]))\n",
    "\n",
    "print(\"Posiciones actuales de las articulaciones:\", posiciones_actuales)\n",
    "hay_colision = detectorColisiones.hay_colision(posiciones_actuales)\n",
    "\n",
    "# Imprime el resultado de la detección de colisiones\n",
    "print(f\"¿Hay colisión?: {'Sí' if hay_colision else 'No'}\")"
   ]
  },
  {
   "cell_type": "markdown",
   "metadata": {},
   "source": [
    "## Inicio del movimiento a la posición de agarre.\n",
    "\n",
    "Se quiere que el brazo vaya desde su posición hasta la posición de agarre. Para ello se crea un `bucle` que se ejecuta hasta que encuentra un `camino libre` de colisiones para llegar al punto deseado. Esto se consigue con un planificador `RRT` que compueba las colisiones a lo largo del path.\n",
    "\n",
    "1. **Validación de la posición final**: se determina si la posición final a la que se quiere llegar es viable para las articulaciones del brazo y no va a pasar por una zona de singularidad.\n",
    "\n",
    "2. **Comprobación de colisiones**: se comprueba si en al posición deseada a la que se quiere llegar hay colisiones o no. En caso de que no haya una colisión se ejecuta el planificador que saca un path libre de colisiones. En caso de que existan colisiones el bucle se vuelve a ejecutar hasta encontrar una opción viable.\n",
    "\n",
    "`NOTA: para que la simulación sea fluida se ha comentado la parte del algortimo RRT y se ha metido el comando para mover el brazo directamente hasta la posición deseada introduciendo los valores de las posiciones de las articulaciones directamente.`\n"
   ]
  },
  {
   "cell_type": "code",
   "execution_count": null,
   "metadata": {},
   "outputs": [],
   "source": [
    "# El uso de la cinemática se mantiene igual\n",
    "kin = manipulacion_lib.Cinematica(robot=ur10, frame_base='base_link',  frame_final='tool0')\n",
    "\n",
    "while True:\n",
    "    valida, posiciones_articulares_deseadas = kin.calcular_ci(posiciones_articulaciones_actuales=ur10.obtener_posiciones_articulaciones()+np.random.rand(6), pose_deseada=tcp_pose)\n",
    "\n",
    "    if valida:\n",
    "        print(\"Posiciones articulares deseadas: \", posiciones_articulares_deseadas)\n",
    "        hay_colision = detectorColisiones.hay_colision(posiciones_articulares_deseadas)\n",
    "        if not hay_colision:\n",
    "            print(\"NO hay colision\")\n",
    "            # Configuración del Algoritmo RRT*\n",
    "            #rrt = manipulacion_lib.RRTStarJointSpace(ur10.obtener_posiciones_articulaciones(), posiciones_articulares_deseadas3, joint_limits, 0.4, 300,1.0, detectorColisiones)\n",
    "        \n",
    "            # Planificación de la Trayectoria\n",
    "            #path = rrt.plan()\n",
    "            #if path:\n",
    "              #  print(path)\n",
    "               # ur10.command_path_posicion_articulaciones(path, 0.4, 1.0)\n",
    "            \n",
    "            gazebo_robot.command_posicion_articulaciones([0.5490487683843837, -0.45702793026260485, 1.1701852104646282, -1.1908789269716504, 3.747946643233648, 1.0926705278650608], time_from_start=2)            \n",
    "            rospy.sleep(2) \n",
    "            break\n",
    "        else:\n",
    "            print(\"Hay colisión, recalculando...\")\n",
    "            rospy.sleep(1)  # Esperar un poco antes de volver a intentarlo"
   ]
  },
  {
   "cell_type": "markdown",
   "metadata": {},
   "source": [
    "## Cierre del gripper"
   ]
  },
  {
   "cell_type": "code",
   "execution_count": null,
   "metadata": {},
   "outputs": [],
   "source": [
    "# Abrir completamente el gripper antes de intentar cualquier operación de agarre.\n",
    "# Es una práctica común asegurarse de que el gripper no esté restringido  o en una posición que podría interferir con el objeto a agarrar.\n",
    "simulacion_gripper.abrir_gripper()\n",
    "\n",
    "# Pequeña pausa para asegurar que la acción de abrir se ha completado.\n",
    "rospy.sleep(1)\n",
    "\n",
    "# Obtener el tipo de gripper actual para aplicar la configuración de posiciones de articulaciones correcta.\n",
    "tipo_gripper = simulacion_gripper.get_tipo_gripper()\n",
    "\n",
    "# Basado en el tipo de gripper, se definen las posiciones específicas de las articulaciones.\n",
    "# Estas posiciones deben ser determinadas experimentalmente o calculadas para lograr el agarre deseado.\n",
    "if tipo_gripper == 'jaco': # Posiciones para el gripper Jaco.\n",
    "  posicion_articulaciones = [-0.6,-0.6,-0.6]  \n",
    "elif tipo_gripper == 'schunk': # Posiciones para el gripper Schunk.\n",
    "  posicion_articulaciones = [0, 0, 0, 0, 0, 0, 0]  \n",
    "elif tipo_gripper == 'robotiq':  # Posiciones para el gripper Robotiq.\n",
    "  posicion_articulaciones = [0.4, 0.4, 0.4, 0, 0.4, 0.4, 0.4, 0, 0.4, 0.4, 0.4] \n",
    "\n",
    "# Aplicar las posiciones definidas a las articulaciones del gripper.\n",
    "# Este paso es crucial para controlar el estado del gripper y realizar agarres efectivos en la simulación.\n",
    "simulacion_gripper.set_posicion_articulaciones(posicion_articulaciones)"
   ]
  },
  {
   "cell_type": "markdown",
   "metadata": {},
   "source": [
    "## Movimiento ascendente del objeto\n",
    "\n",
    "Se quiere que el brazo vaya desde su posición actual la siguiente posición. Para ello se crea un `bucle` que se ejecuta hasta que encuentra un `camino libre` de colisiones para llegar al punto deseado. Esto se consigue con un planificador `RRT` que compueba las colisiones a lo largo del path.\n",
    "\n",
    "Aqui se realiza un `movimiento ascendente vertical` para intentar superar el obstáculo\n",
    "\n",
    "1. **Validación de la posición final**: se determina si la posición final a la que se quiere llegar es viable para las articulaciones del brazo y no va a pasar por una zona de singularidad.\n",
    "\n",
    "2. **Comprobación de colisiones**: se comprueba si en al posición deseada a la que se quiere llegar hay colisiones o no. En caso de que no haya una colisión se ejecuta el planificador que saca un path libre de colisiones. En caso de que existan colisiones el bucle se vuelve a ejecutar hasta encontrar una opción viable.\n",
    "\n",
    "`NOTA: para que la simulación sea fluida se ha comentado la parte del algortimo RRT y se ha metido el comando para mover el brazo directamente hasta la posición deseada introduciendo los valores de las posiciones de las articulaciones directamente.`\n"
   ]
  },
  {
   "cell_type": "code",
   "execution_count": null,
   "metadata": {},
   "outputs": [],
   "source": [
    "# Definición de la posición vertical a 0.4 metros del suelo, desplazamiento en el eje Z\n",
    "pose2_gripper_world = PyKDL.Frame(PyKDL.Rotation.Quaternion(-0.40871888539793455, -0.54439158522276, 0.4496804222436366, 0.5782509770925648), PyKDL.Vector(pose_gripper_world.p.x(), pose_gripper_world.p.y(), pose_gripper_world.p.z() +0.5))\n",
    "print(\"Pose2 gripper desplazada verticalmente\")\n",
    "print(pose2_gripper_world)\n",
    "rospy.sleep(1)\n",
    "tcp_pose2 = frame_to_pose(pose2_gripper_world)\n",
    "print(\"Pose2 gripper_tcp con respecto a world: \")\n",
    "print( tcp_pose2)\n",
    "print(pose2_gripper_world)\n",
    "\n",
    "while True:\n",
    "    valida, posiciones_articulares_deseadas2 = kin.calcular_ci(posiciones_articulaciones_actuales=ur10.obtener_posiciones_articulaciones()+np.random.rand(6), pose_deseada=tcp_pose2)\n",
    "\n",
    "    if valida:\n",
    "        print(\"Posiciones articulares deseadas2: \", posiciones_articulares_deseadas2)\n",
    "        hay_colision = detectorColisiones.hay_colision(posiciones_articulares_deseadas2)\n",
    "        if not hay_colision:\n",
    "            print(\"NO hay colision\")\n",
    "            # Configuración del Algoritmo RRT*\n",
    "            #rrt = manipulacion_lib.RRTStarJointSpace(ur10.obtener_posiciones_articulaciones(), posiciones_articulares_deseadas3, joint_limits, 0.4, 300,1.0, detectorColisiones)\n",
    "        \n",
    "            # Planificación de la Trayectoria\n",
    "            #path = rrt.plan()\n",
    "            #if path:\n",
    "              #  print(path)\n",
    "               # ur10.command_path_posicion_articulaciones(path, 0.4, 1.0)\n",
    "            \n",
    "            gazebo_robot.command_posicion_articulaciones([0.5490121111461591, -0.8310527696012312, 0.9297590974127579, -0.5764522745346105, 3.7479140771573447, 1.0926409549340657], time_from_start=2)\n",
    "            rospy.sleep(2)  \n",
    "            break\n",
    "        else:\n",
    "            print(\"Hay colisión, recalculando...\")\n",
    "            rospy.sleep(1)  # Esperar un poco antes de volver a intentarlo"
   ]
  },
  {
   "cell_type": "markdown",
   "metadata": {},
   "source": [
    "## Movimiento horizontal del objeto\n",
    "\n",
    "Se quiere que el brazo vaya desde su posición actual hasta la siguiente posición. Para ello se crea un `bucle` que se ejecuta hasta que encuentra un `camino libre` de colisiones para llegar al punto deseado. Esto se consigue con un planificador `RRT` que compueba las colisiones a lo largo del path.\n",
    "\n",
    "Aqui se realiza un `movimiento horizontal` para intentar superar el obstáculo.\n",
    "\n",
    "1. **Validación de la posición final**: se determina si la posición final a la que se quiere llegar es viable para las articulaciones del brazo y no va a pasar por una zona de singularidad.\n",
    "\n",
    "2. **Comprobación de colisiones**: se comprueba si en al posición deseada a la que se quiere llegar hay colisiones o no. En caso de que no haya una colisión se ejecuta el planificador que saca un path libre de colisiones. En caso de que existan colisiones el bucle se vuelve a ejecutar hasta encontrar una opción viable.\n",
    "\n",
    "`NOTA: para que la simulación sea fluida se ha comentado la parte del algortimo RRT y se ha metido el comando para mover el brazo directamente hasta la posición deseada introduciendo los valores de las posiciones de las articulaciones directamente.`"
   ]
  },
  {
   "cell_type": "code",
   "execution_count": null,
   "metadata": {},
   "outputs": [],
   "source": [
    "pose3_gripper_world = PyKDL.Frame(PyKDL.Rotation.Quaternion(-0.40871888539793455, -0.54439158522276, 0.4496804222436366, 0.5782509770925648), PyKDL.Vector(pose_gripper_world.p.x(), pose_gripper_world.p.y() - 0.8, pose_gripper_world.p.z() +0.5))\n",
    "print(\"Pose3 gripper desplazada horizontalmente\")\n",
    "print(pose3_gripper_world)\n",
    "rospy.sleep(1)\n",
    "tcp_pose3 = frame_to_pose(pose3_gripper_world)\n",
    "print(\"Pose3 gripper_tcp con respecto a world: \")\n",
    "print( tcp_pose3)\n",
    "print(pose3_gripper_world)\n",
    "\n",
    "while True:\n",
    "    valida, posiciones_articulares_deseadas3 = kin.calcular_ci(posiciones_articulaciones_actuales=ur10.obtener_posiciones_articulaciones()+np.random.rand(6), pose_deseada=tcp_pose3)\n",
    "    if valida:\n",
    "        # Fijar las posiciones articulares deseadas\n",
    "        print(\"Posiciones articulares deseadas3: \", posiciones_articulares_deseadas3)\n",
    "\n",
    "        hay_colision3 = detectorColisiones.hay_colision(posiciones_articulares_deseadas3)\n",
    "        if not hay_colision3:\n",
    "            print(\"NO hay colision\")\n",
    "            # Configuración del Algoritmo RRT*\n",
    "            #rrt = manipulacion_lib.RRTStarJointSpace(ur10.obtener_posiciones_articulaciones(), posiciones_articulares_deseadas3, joint_limits, 0.4, 300,1.0, detectorColisiones)\n",
    "        \n",
    "            # Planificación de la Trayectoria\n",
    "            #path = rrt.plan()\n",
    "            #if path:\n",
    "              #  print(path)\n",
    "               # ur10.command_path_posicion_articulaciones(path, 0.4, 1.0)\n",
    "            gazebo_robot.command_posicion_articulaciones([-0.353915212656789, -1.1231828917657756, 1.780361714641838, -3.1303628997555997, 3.5780881650458856, -1.025554158885402], time_from_start=2)\n",
    "            rospy.sleep(2)  \n",
    "            break\n",
    "        else:\n",
    "            print(\"Hay colisión, recalculando...\")\n",
    "            rospy.sleep(1)  # Esperar un poco antes de volver a intentarlo\n"
   ]
  },
  {
   "cell_type": "markdown",
   "metadata": {},
   "source": [
    "## Movimiento descendente diagonal del objeto\n",
    "\n",
    "Se quiere que el brazo vaya desde su posición actual hasta la posición fianl. Para ello se crea un `bucle` que se ejecuta hasta que encuentra un `camino libre` de colisiones para llegar al punto deseado. Esto se consigue con un planificador `RRT` que compueba las colisiones a lo largo del path.\n",
    "\n",
    "Aqui se realiza un `movimiento descendente  diagonal` para intentar superar el obstáculo\n",
    "\n",
    "1. **Validación de la posición final**: se determina si la posición final a la que se quiere llegar es viable para las articulaciones del brazo y no va a pasar por una zona de singularidad.\n",
    "\n",
    "2. **Comprobación de colisiones**: se comprueba si en al posición deseada a la que se quiere llegar hay colisiones o no. En caso de que no haya una colisión se ejecuta el planificador que saca un path libre de colisiones. En caso de que existan colisiones el bucle se vuelve a ejecutar hasta encontrar una opción viable.\n",
    "\n",
    "`NOTA: para que la simulación sea fluida se ha comentado la parte del algortimo RRT y se ha metido el comando para mover el brazo directamente hasta la posición deseada introduciendo los valores de las posiciones de las articulaciones directamente.`"
   ]
  },
  {
   "cell_type": "code",
   "execution_count": null,
   "metadata": {},
   "outputs": [],
   "source": [
    "pose4_gripper_world = PyKDL.Frame(PyKDL.Rotation.Quaternion(-0.40871888539793455, -0.54439158522276, 0.4496804222436366, 0.5782509770925648), PyKDL.Vector(pose_gripper_world.p.x() - 0.3, pose_gripper_world.p.y() - 1.2, pose_gripper_world.p.z()))\n",
    "print(\"Pose4 gripper desplazada verticalmente hacia abajo\")\n",
    "print(pose4_gripper_world)\n",
    "rospy.sleep(1)\n",
    "tcp_pose4 = frame_to_pose(pose4_gripper_world)\n",
    "print(\"Pose4 gripper_tcp con respecto a world: \")\n",
    "print( tcp_pose4)\n",
    "print(pose4_gripper_world)\n",
    "\n",
    "while True:\n",
    "    valida, posiciones_articulares_deseadas4 = kin.calcular_ci(posiciones_articulaciones_actuales=ur10.obtener_posiciones_articulaciones()+np.random.rand(6), pose_deseada=tcp_pose4)\n",
    "    if valida:\n",
    "        # Fijar las posiciones articulares deseadas\n",
    "        print(\"Posiciones articulares deseadas4: \", posiciones_articulares_deseadas4)\n",
    "        hay_colision4 = detectorColisiones.hay_colision(posiciones_articulares_deseadas4)\n",
    "        if not hay_colision4:\n",
    "            print(\"NO hay colision\")\n",
    "            gazebo_robot.command_posicion_articulaciones([-1.0371833062906048, -0.7219553236754773, 1.7890295323189367, -0.7611139171590264, 2.086711201703622, 1.649490948860812], time_from_start=4)\n",
    "            rospy.sleep(4)  # Esperar un poco antes de volver a intentarlo\n",
    "\n",
    "            break\n",
    "           # gazebo_robot.command_posicion_articulaciones([-1.0371833062906048, -0.7219553236754773, 1.7890295323189367, -0.7611139171590264, 2.086711201703622, 1.649490948860812],\n",
    "                                           #  time_from_start=2)\n",
    "            # Configuración del Algoritmo RRT*\n",
    "            #rrt = manipulacion_lib.RRTStarJointSpace(ur10.obtener_posiciones_articulaciones(), posiciones_articulares_deseadas3, joint_limits, 0.4, 300,1.0, detectorColisiones)\n",
    "\n",
    "            # Planificación de la Trayectoria\n",
    "            #path = rrt.plan()\n",
    "            #if path:\n",
    "                #print(path)\n",
    "                \n",
    "                #ur10.command_path_posicion_articulaciones(path, 0.4, 1.0)\n",
    "        elif hay_colision4:\n",
    "           print(\"Hay colisión, recalculando...\")\n",
    "           rospy.sleep(1)  # Esperar un poco antes de volver a intentarlo\n"
   ]
  },
  {
   "cell_type": "markdown",
   "metadata": {},
   "source": [
    "## Apertura del gripper"
   ]
  },
  {
   "cell_type": "code",
   "execution_count": null,
   "metadata": {},
   "outputs": [],
   "source": [
    "# Abrir completamente el gripper antes de intentar cualquier operación de agarre.\n",
    "# Es una práctica común asegurarse de que el gripper no esté restringido o en una posición que podría interferir con el objeto a agarrar.\n",
    "rospy.sleep(2)\n",
    "simulacion_gripper.abrir_gripper()\n",
    "\n",
    "# Pequeña pausa para asegurar que la acción de abrir se ha completado.\n",
    "rospy.sleep(1)\n"
   ]
  },
  {
   "cell_type": "markdown",
   "metadata": {},
   "source": [
    "## Movimiento a la posición de postagarre\n",
    "\n",
    "Se quiere que el brazo vaya desde su posición hasta la posición de postagarre. Para ello se crea un `bucle` que se ejecuta hasta que encuentra un `camino libre` de colisiones para llegar al punto deseado. Esto se consigue con un planificador `RRT` que compueba las colisiones a lo largo del path.\n",
    "\n",
    "Aqui se realiza un `movimiento ascendente vertical` para intentar superar el obstáculo\n",
    "\n",
    "1. **Validación de la posición final**: se determina si la posición final a la que se quiere llegar es viable para las articulaciones del brazo y no va a pasar por una zona de singularidad.\n",
    "\n",
    "2. **Comprobación de colisiones**: se comprueba si en al posición deseada a la que se quiere llegar hay colisiones o no. En caso de que no haya una colisión se ejecuta el planificador que saca un path libre de colisiones. En caso de que existan colisiones el bucle se vuelve a ejecutar hasta encontrar una opción viable.\n",
    "\n",
    "`NOTA: para que la simulación sea fluida se ha comentado la parte del algortimo RRT y se ha metido el comando para mover el brazo directamente hasta la posición deseada introduciendo los valores de las posiciones de las articulaciones directamente.`"
   ]
  },
  {
   "cell_type": "code",
   "execution_count": null,
   "metadata": {},
   "outputs": [],
   "source": [
    "pose5_gripper_world = PyKDL.Frame(PyKDL.Rotation.Quaternion(-0.40871888539793455, -0.54439158522276, 0.4496804222436366, 0.5782509770925648), PyKDL.Vector(pose_gripper_world.p.x() - 0.3, pose_gripper_world.p.y() - 1.0, pose_gripper_world.p.z()))\n",
    "print(\"Pose5 gripper para dejar objeto\")\n",
    "print(pose5_gripper_world)\n",
    "rospy.sleep(1)\n",
    "tcp_pose5 = frame_to_pose(pose5_gripper_world)\n",
    "print(\"Pose5 gripper_tcp con respecto a world: \")\n",
    "print( tcp_pose5)\n",
    "print(pose5_gripper_world)\n",
    "\n",
    "while True:\n",
    "    valida, posiciones_articulares_deseadas5 = kin.calcular_ci(posiciones_articulaciones_actuales=ur10.obtener_posiciones_articulaciones()+np.random.rand(6), pose_deseada=tcp_pose5)\n",
    "    if valida:\n",
    "        # Fijar las posiciones articulares deseadas\n",
    "        print(\"Posiciones articulares deseadas5: \", posiciones_articulares_deseadas5)\n",
    "        hay_colision5 = detectorColisiones.hay_colision(posiciones_articulares_deseadas5)\n",
    "        if not hay_colision5:\n",
    "            print(\"NO hay colision\")\n",
    "            gazebo_robot.command_posicion_articulaciones([-0.8522252724959221, -0.8096008275325517, 2.050202432361607, -0.8936315139798986, 2.261988060754083, 1.7214475785368721], time_from_start=2)\n",
    "            rospy.sleep(2)  # Esperar un poco antes de volver a intentarlo\n",
    "\n",
    "            break\n",
    "           # gazebo_robot.command_posicion_articulaciones([-1.0371833062906048, -0.7219553236754773, 1.7890295323189367, -0.7611139171590264, 2.086711201703622, 1.649490948860812],\n",
    "                                           #  time_from_start=2)\n",
    "            # Configuración del Algoritmo RRT*\n",
    "            #rrt = manipulacion_lib.RRTStarJointSpace(ur10.obtener_posiciones_articulaciones(), posiciones_articulares_deseadas3, joint_limits, 0.4, 300,1.0, detectorColisiones)\n",
    "\n",
    "            # Planificación de la Trayectoria\n",
    "            #path = rrt.plan()\n",
    "            #if path:\n",
    "                #print(path)\n",
    "                \n",
    "                #ur10.command_path_posicion_articulaciones(path, 0.4, 1.0)\n",
    "        elif hay_colision5:\n",
    "           print(\"Hay colisión, recalculando...\")\n",
    "           rospy.sleep(1)  # Esperar un poco antes de volver a intentarlo"
   ]
  }
 ],
 "metadata": {
  "kernelspec": {
   "display_name": "Python 3 (ipykernel)",
   "language": "python",
   "name": "python3"
  },
  "language_info": {
   "codemirror_mode": {
    "name": "ipython",
    "version": 3
   },
   "file_extension": ".py",
   "mimetype": "text/x-python",
   "name": "python",
   "nbconvert_exporter": "python",
   "pygments_lexer": "ipython3",
   "version": "3.8.10"
  }
 },
 "nbformat": 4,
 "nbformat_minor": 4
}
